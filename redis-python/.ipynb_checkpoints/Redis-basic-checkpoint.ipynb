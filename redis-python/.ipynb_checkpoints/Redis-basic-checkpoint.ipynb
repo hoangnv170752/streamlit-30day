{
 "cells": [
  {
   "cell_type": "code",
   "execution_count": 4,
   "id": "822afbdc",
   "metadata": {},
   "outputs": [
    {
     "ename": "SyntaxError",
     "evalue": "invalid syntax (4205643733.py, line 1)",
     "output_type": "error",
     "traceback": [
      "\u001b[0;36m  Cell \u001b[0;32mIn[4], line 1\u001b[0;36m\u001b[0m\n\u001b[0;31m    import redis|\u001b[0m\n\u001b[0m                ^\u001b[0m\n\u001b[0;31mSyntaxError\u001b[0m\u001b[0;31m:\u001b[0m invalid syntax\n"
     ]
    }
   ],
   "source": [
    "import redis|"
   ]
  },
  {
   "cell_type": "code",
   "execution_count": 3,
   "id": "26a2e8e4",
   "metadata": {},
   "outputs": [],
   "source": [
    "hostname = \"redis-19141.c294.ap-northeast-1-2.ec2.cloud.redislabs.com:19141\"\n",
    "port = 18692\n",
    "password = \"U2G9jb2LDWXfUg3YwJkeuJi9C2PCOJWX\"\n",
    "r = redis.Redis(\n",
    "    host = hostname,\n",
    "    port = port,\n",
    "    password = password\n",
    ")"
   ]
  },
  {
   "cell_type": "code",
   "execution_count": null,
   "id": "b45f50f3",
   "metadata": {},
   "outputs": [],
   "source": []
  }
 ],
 "metadata": {
  "kernelspec": {
   "display_name": "Python 3 (ipykernel)",
   "language": "python",
   "name": "python3"
  },
  "language_info": {
   "codemirror_mode": {
    "name": "ipython",
    "version": 3
   },
   "file_extension": ".py",
   "mimetype": "text/x-python",
   "name": "python",
   "nbconvert_exporter": "python",
   "pygments_lexer": "ipython3",
   "version": "3.11.2"
  }
 },
 "nbformat": 4,
 "nbformat_minor": 5
}
